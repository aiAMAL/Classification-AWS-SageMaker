{
 "cells": [
  {
   "cell_type": "code",
   "execution_count": 4,
   "id": "d5e78601-a0fc-45ec-a0d3-ddefd3c84942",
   "metadata": {},
   "outputs": [],
   "source": [
    "import pandas as pd\n",
    "from sklearn.model_selection import train_test_split\n",
    "import sagemaker\n",
    "import boto3"
   ]
  },
  {
   "cell_type": "code",
   "execution_count": 12,
   "id": "175db22c-8833-477c-ab3c-dc613c06312b",
   "metadata": {},
   "outputs": [],
   "source": [
    "boto3_session = boto3.Session(region_name='us-east-1')\n",
    "sm_session = sagemaker.Session(boto_session=boto3_session)\n",
    "region = sm_session.boto_session.region_name\n",
    "bucket = 'bucket-aws-classification'"
   ]
  },
  {
   "cell_type": "code",
   "execution_count": null,
   "id": "306e6676-89f8-43ed-84fa-4c467c8dde72",
   "metadata": {},
   "outputs": [],
   "source": []
  }
 ],
 "metadata": {
  "kernelspec": {
   "display_name": "Classification AWS SageMaker",
   "language": "python",
   "name": "myenv"
  },
  "language_info": {
   "codemirror_mode": {
    "name": "ipython",
    "version": 3
   },
   "file_extension": ".py",
   "mimetype": "text/x-python",
   "name": "python",
   "nbconvert_exporter": "python",
   "pygments_lexer": "ipython3",
   "version": "3.11.0"
  }
 },
 "nbformat": 4,
 "nbformat_minor": 5
}
